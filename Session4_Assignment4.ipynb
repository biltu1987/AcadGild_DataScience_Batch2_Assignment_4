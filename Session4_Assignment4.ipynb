{
 "cells": [
  {
   "cell_type": "markdown",
   "metadata": {},
   "source": [
    "# Task 1:"
   ]
  },
  {
   "cell_type": "markdown",
   "metadata": {},
   "source": [
    "1.Given a sequence of n values x1, x2, ..., xn and a window size k>0, the k-th moving average of\n",
    "\n",
    "the given sequence is defined as follows:\n",
    "    \n",
    "The moving average sequence has n-k+1 elements as shown below.\n",
    "\n",
    "The moving averages with k=4 of a ten-value sequence (n=10) is shown below\n",
    "\n",
    "i 1 2 3 4 5 6 7 8 9 10\n",
    "\n",
    "===== == == == == == == == == == ==\n",
    "\n",
    "Input 10 20 30 40 50 60 70 80 90 100\n",
    "\n",
    "y1 25 = (10+20+30+40)/4\n",
    "\n",
    "y2 35 = (20+30+40+50)/4\n",
    "\n",
    "y3 45 = (30+40+50+60)/4\n",
    "\n",
    "y4 55 = (40+50+60+70)/4\n",
    "\n",
    "y5 65 = (50+60+70+80)/4\n",
    "\n",
    "y6 75 = (60+70+80+90)/4\n",
    "\n",
    "y7 85 = (70+80+90+100)/4\n",
    "\n",
    "Thus, the moving average sequence has n-k+1=10-4+1=7 values.\n",
    "\n",
    "Problem Statement:\n",
    "    \n",
    "Write a function to find moving average in an array over a window:\n",
    "    \n",
    "Test it over [3, 5, 7, 2, 8, 10, 11, 65, 72, 81, 99, 100, 150] and window of 3."
   ]
  },
  {
   "cell_type": "code",
   "execution_count": 7,
   "metadata": {},
   "outputs": [
    {
     "name": "stdout",
     "output_type": "stream",
     "text": [
      "----------------------------------------\n",
      " User defined List :-\n",
      " [3, 5, 7, 2, 8, 10, 11, 65, 72, 81, 99, 100, 150] \n",
      " User Define Window Size :-\t 3 \n",
      "----------------------------------------\n",
      " Result Using above defined Funtion :\t\n",
      " Moving average value :\n",
      " [5.0, 4.67, 5.67, 6.67, 9.67, 28.67, 49.33, 72.67, 84.0, 93.33, 116.33]\n",
      " Moving average seques has :- 11, values\n",
      "----------------------------------------\n"
     ]
    }
   ],
   "source": [
    "List_a = [3,5,7,2,8,10,11,65,72,81,99,100,150]\n",
    "\n",
    "moving_seq = 3 # Number of Sequence\n",
    "cummlative_sum , moving_average = [0],[] # Define varibale in list form\n",
    "\n",
    "def Moving_average_fun(List_a, moveing_seq): # Function with two parametter\n",
    "    N =  moving_seq # renaming the variable\n",
    "    for i , j  in enumerate(List_a,1): # Enumeation the variable\n",
    "        cummlative_sum.append(cummlative_sum[i-1] + j) # appendthe list\n",
    "\n",
    "        if i>=N: # checking the condition\n",
    "            moving_ave = round((cummlative_sum[i] - cummlative_sum[i-N])/N,2) #siling the list and summing the round up the value\n",
    "\n",
    "            #can do stuff with moving_ave here\n",
    "            moving_average.append(moving_ave) # appending the results\n",
    "    return (moving_average), len(moving_average) # return the value and length of elements\n",
    "\n",
    "Result_fun = Moving_average_fun(List_a,moving_seq)\n",
    "\n",
    "print (\"----\"*10)\n",
    "print (\" User defined List :-\\n {} \\n User Define Window Size :-\\t {} \".format(List_a,moving_seq))\n",
    "print (\"----\"*10)\n",
    "print (\" Result Using above defined Funtion :\\t\")\n",
    "print (\" Moving average value :\\n\",Result_fun[0])\n",
    "print (\" Moving average seques has :- {}, values\".format(Result_fun[1]))\n",
    "print (\"----\"*10)"
   ]
  },
  {
   "cell_type": "markdown",
   "metadata": {},
   "source": [
    "# Task 2"
   ]
  },
  {
   "cell_type": "markdown",
   "metadata": {},
   "source": [
    " 1. How-to-count-distance-to-the-previous-zero\n",
    "\n",
    "For each value, count the difference back to the previous zero (or the start of the Series, whichever is closer)\n",
    "\n",
    "create a new column 'Y'\n",
    "\n",
    "Consider a DataFrame df where there is an integer column 'X'\n",
    "\n",
    "import pandas as pd\n",
    "\n",
    "df = pd.DataFrame({'X': [7, 2, 0, 3, 4, 2, 5, 0, 3, 4]})"
   ]
  },
  {
   "cell_type": "code",
   "execution_count": 6,
   "metadata": {},
   "outputs": [
    {
     "name": "stdout",
     "output_type": "stream",
     "text": [
      "Desired Out put Values\n",
      "----------------------------------------\n",
      "Using Pandas Function out put :-\n",
      "     X  Y\n",
      "0   7  1\n",
      "1   2  2\n",
      "2   0  0\n",
      "3   3  1\n",
      "4   4  2\n",
      "5   2  3\n",
      "6   5  4\n",
      "7   0  0\n",
      "8   3  1\n",
      "9   4  2\n",
      "10  0  0\n",
      "11  4  1\n",
      "12  5  2\n",
      "----------------------------------------\n"
     ]
    }
   ],
   "source": [
    "import pandas as pd # Importing pandas as pd\n",
    "\n",
    "df = pd.DataFrame(({'X':[7,2,0,3,4,2,5,0,3,4,0,4,5]})) # Suggest input\n",
    "# using pandas inbuilt function cummulative sum and masking check with Zero return to \"Y\"\n",
    "df[\"Y\"] = (df.X.groupby(df.X.eq(0).cumsum().mask(df.X.eq(0))).cumcount() + 1).mask(df.X.eq(0), 0).tolist()\n",
    "\n",
    "print (\"Desired Out put Values\")\n",
    "print (\"----\"*10)\n",
    "print (\"Using Pandas Function out put :-\\n\",df)\n",
    "print (\"----\"*10)"
   ]
  },
  {
   "cell_type": "markdown",
   "metadata": {},
   "source": [
    "#2. Create a DatetimeIndex that contains each business day of 2015 and use it to index a Series of random numbers."
   ]
  },
  {
   "cell_type": "code",
   "execution_count": 10,
   "metadata": {},
   "outputs": [
    {
     "data": {
      "text/plain": [
       "2015-01-01    0.940304\n",
       "2015-01-02    0.167738\n",
       "2015-01-05    0.847470\n",
       "2015-01-06    0.341127\n",
       "2015-01-07    0.829229\n",
       "2015-01-08    0.839246\n",
       "2015-01-09    0.328323\n",
       "2015-01-12    0.370054\n",
       "2015-01-13    0.489648\n",
       "2015-01-14    0.023030\n",
       "2015-01-15    0.096952\n",
       "2015-01-16    0.707726\n",
       "2015-01-19    0.151601\n",
       "2015-01-20    0.204104\n",
       "2015-01-21    0.533816\n",
       "2015-01-22    0.780344\n",
       "2015-01-23    0.243171\n",
       "2015-01-26    0.776436\n",
       "2015-01-27    0.255002\n",
       "2015-01-28    0.014792\n",
       "2015-01-29    0.868613\n",
       "2015-01-30    0.101670\n",
       "2015-02-02    0.273996\n",
       "2015-02-03    0.620146\n",
       "2015-02-04    0.759765\n",
       "2015-02-05    0.104695\n",
       "2015-02-06    0.590782\n",
       "2015-02-09    0.065099\n",
       "2015-02-10    0.789155\n",
       "2015-02-11    0.912252\n",
       "                ...   \n",
       "2015-11-20    0.433449\n",
       "2015-11-23    0.808666\n",
       "2015-11-24    0.107722\n",
       "2015-11-25    0.581301\n",
       "2015-11-26    0.800174\n",
       "2015-11-27    0.328443\n",
       "2015-11-30    0.005691\n",
       "2015-12-01    0.711775\n",
       "2015-12-02    0.010514\n",
       "2015-12-03    0.774326\n",
       "2015-12-04    0.903336\n",
       "2015-12-07    0.709850\n",
       "2015-12-08    0.296315\n",
       "2015-12-09    0.900726\n",
       "2015-12-10    0.499753\n",
       "2015-12-11    0.354442\n",
       "2015-12-14    0.257325\n",
       "2015-12-15    0.197909\n",
       "2015-12-16    0.001095\n",
       "2015-12-17    0.545332\n",
       "2015-12-18    0.652822\n",
       "2015-12-21    0.759575\n",
       "2015-12-22    0.976529\n",
       "2015-12-23    0.955355\n",
       "2015-12-24    0.562591\n",
       "2015-12-25    0.534187\n",
       "2015-12-28    0.112537\n",
       "2015-12-29    0.342383\n",
       "2015-12-30    0.097459\n",
       "2015-12-31    0.798711\n",
       "Freq: B, Length: 261, dtype: float64"
      ]
     },
     "execution_count": 10,
     "metadata": {},
     "output_type": "execute_result"
    }
   ],
   "source": [
    "import numpy as np\n",
    "dti = pd.date_range(start='2015-01-01', end='2015-12-31', freq='B')\n",
    "s = pd.Series(np.random.rand(len(dti)), index=dti)\n",
    "s"
   ]
  },
  {
   "cell_type": "markdown",
   "metadata": {},
   "source": [
    "#3. Find the sum of the values in s for every Wednesday"
   ]
  },
  {
   "cell_type": "code",
   "execution_count": 11,
   "metadata": {},
   "outputs": [
    {
     "data": {
      "text/plain": [
       "25.389337106258182"
      ]
     },
     "execution_count": 11,
     "metadata": {},
     "output_type": "execute_result"
    }
   ],
   "source": [
    "s[dti.weekday == 2].sum()"
   ]
  },
  {
   "cell_type": "markdown",
   "metadata": {},
   "source": [
    "#4. Average For each calendar month"
   ]
  },
  {
   "cell_type": "code",
   "execution_count": 12,
   "metadata": {},
   "outputs": [
    {
     "data": {
      "text/plain": [
       "2015-01-31    0.450472\n",
       "2015-02-28    0.422594\n",
       "2015-03-31    0.472090\n",
       "2015-04-30    0.538044\n",
       "2015-05-31    0.498703\n",
       "2015-06-30    0.564939\n",
       "2015-07-31    0.464042\n",
       "2015-08-31    0.525629\n",
       "2015-09-30    0.416969\n",
       "2015-10-31    0.615392\n",
       "2015-11-30    0.502998\n",
       "2015-12-31    0.519776\n",
       "Freq: M, dtype: float64"
      ]
     },
     "execution_count": 12,
     "metadata": {},
     "output_type": "execute_result"
    }
   ],
   "source": [
    "s.resample('M').mean()"
   ]
  },
  {
   "cell_type": "markdown",
   "metadata": {},
   "source": [
    "#5. For each group of four consecutive calendar months in s, find the date on which the highest value occurred."
   ]
  },
  {
   "cell_type": "code",
   "execution_count": 13,
   "metadata": {},
   "outputs": [
    {
     "name": "stderr",
     "output_type": "stream",
     "text": [
      "C:\\Users\\biltu.khawas\\AppData\\Local\\Continuum\\anaconda3\\lib\\site-packages\\ipykernel_launcher.py:1: FutureWarning: pd.TimeGrouper is deprecated and will be removed; Please use pd.Grouper(freq=...)\n",
      "  \"\"\"Entry point for launching an IPython kernel.\n"
     ]
    },
    {
     "data": {
      "text/plain": [
       "2015-01-31   2015-01-01\n",
       "2015-05-31   2015-04-01\n",
       "2015-09-30   2015-06-15\n",
       "2016-01-31   2015-12-22\n",
       "dtype: datetime64[ns]"
      ]
     },
     "execution_count": 13,
     "metadata": {},
     "output_type": "execute_result"
    }
   ],
   "source": [
    "s.groupby(pd.TimeGrouper('4M')).idxmax()"
   ]
  },
  {
   "cell_type": "code",
   "execution_count": null,
   "metadata": {},
   "outputs": [],
   "source": []
  }
 ],
 "metadata": {
  "kernelspec": {
   "display_name": "Python 3",
   "language": "python",
   "name": "python3"
  },
  "language_info": {
   "codemirror_mode": {
    "name": "ipython",
    "version": 3
   },
   "file_extension": ".py",
   "mimetype": "text/x-python",
   "name": "python",
   "nbconvert_exporter": "python",
   "pygments_lexer": "ipython3",
   "version": "3.6.4"
  }
 },
 "nbformat": 4,
 "nbformat_minor": 2
}
